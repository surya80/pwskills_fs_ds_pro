{
 "cells": [
  {
   "cell_type": "raw",
   "id": "54b6a600-737b-4014-86dd-b6163f0a624c",
   "metadata": {},
   "source": [
    "TOPIC: Python Basics Variable"
   ]
  },
  {
   "cell_type": "raw",
   "id": "3a725cbd-689f-448e-b772-2b40db8b511b",
   "metadata": {},
   "source": [
    "1. Declare two variables, 'x' and 'y', and assign them integer values. Swap the values of these variables without using any temporary variable."
   ]
  },
  {
   "cell_type": "code",
   "execution_count": 1,
   "id": "a9818394-fc50-45d2-9f3f-0a66070e0177",
   "metadata": {},
   "outputs": [
    {
     "name": "stdout",
     "output_type": "stream",
     "text": [
      "Before swapping:\n",
      "x:  3  and y:  8\n",
      "After swapping:\n",
      "x:  8  and y:  3\n"
     ]
    }
   ],
   "source": [
    "# Python program to swap values of two variables without any temporary variable\n",
    "x = 3\n",
    "y = 8\n",
    "\n",
    "print(\"Before swapping:\")\n",
    "print(\"x: \", x, \" and y: \", y)\n",
    "\n",
    "# using built in method to swap values\n",
    "x , y = y, x\n",
    "\n",
    "print(\"After swapping:\")\n",
    "print(\"x: \", x, \" and y: \", y)"
   ]
  },
  {
   "cell_type": "raw",
   "id": "5800f02a-2f85-4c17-bef4-29080c63e28a",
   "metadata": {},
   "source": [
    "2. Create a program that calculates the area of a rectangle. Take the length and width as inputs from the user and store them in variables. Calculate and display the area."
   ]
  },
  {
   "cell_type": "code",
   "execution_count": 2,
   "id": "76533a08-12b9-4552-9294-7d2760de8df5",
   "metadata": {},
   "outputs": [
    {
     "name": "stdin",
     "output_type": "stream",
     "text": [
      "Enter the length of the rectangle:  10.5\n",
      "Enter the width of the rectangle:  15.6\n"
     ]
    },
    {
     "name": "stdout",
     "output_type": "stream",
     "text": [
      "The area of the rectangle is:  163.79999999999998\n"
     ]
    }
   ],
   "source": [
    "# Program to calculate the length of a retangle\n",
    "length = float(input(\"Enter the length of the rectangle: \"))\n",
    "width = float(input(\"Enter the width of the rectangle: \"))\n",
    "area = length * width\n",
    "print(\"The area of the rectangle is: \", area)"
   ]
  },
  {
   "cell_type": "raw",
   "id": "85bc5045-c63c-408e-80bc-f47cb8c506e9",
   "metadata": {},
   "source": [
    "3. Write a Python program that converts temperatures from Celsius to Fahrenheit. Take the temperature in Celsius as input, store it in a variable,\n",
    "convert it to Fahrenheit, and display the result."
   ]
  },
  {
   "cell_type": "code",
   "execution_count": 3,
   "id": "c02bbf3e-17ee-42c6-beca-26289a3dd37b",
   "metadata": {},
   "outputs": [
    {
     "name": "stdin",
     "output_type": "stream",
     "text": [
      "Enter the temperature in Celsius:  35\n"
     ]
    },
    {
     "name": "stdout",
     "output_type": "stream",
     "text": [
      "The temperature in Fahrenheit is:  95.0\n"
     ]
    }
   ],
   "source": [
    "# Program to convert temperatures from Celsius to Fahrenheit\n",
    "# Formula used F = (9/5)*C+32\n",
    "temp_c = float(input(\"Enter the temperature in Celsius: \"))\n",
    "temp_f = ((9/5)*temp_c)+32\n",
    "print(\"The temperature in Fahrenheit is: \", temp_f)"
   ]
  },
  {
   "cell_type": "raw",
   "id": "6508785a-9f7e-4a57-8a0a-6405250b75cc",
   "metadata": {},
   "source": [
    "TOPIC: String Based Questions"
   ]
  },
  {
   "cell_type": "raw",
   "id": "ca12c045-2910-4963-8f47-358eea2367b2",
   "metadata": {},
   "source": [
    "1. Write a Python program that takes a string as input and prints the length of the string."
   ]
  },
  {
   "cell_type": "code",
   "execution_count": 4,
   "id": "bb01c91f-7d3b-42f0-8a31-0d3ed4658dff",
   "metadata": {},
   "outputs": [
    {
     "name": "stdin",
     "output_type": "stream",
     "text": [
      "Enter a string:  hello\n"
     ]
    },
    {
     "name": "stdout",
     "output_type": "stream",
     "text": [
      "The length of the string is:  5\n"
     ]
    }
   ],
   "source": [
    "string = input(\"Enter a string: \")\n",
    "length = len(string)\n",
    "print(\"The length of the string is: \", length)"
   ]
  },
  {
   "cell_type": "raw",
   "id": "8b0074c2-5ac5-46dc-bcc2-ee85d7a6fbce",
   "metadata": {},
   "source": [
    "2. Create a program that takes a sentence from the user and counts the number of vowels (a, e, i, o, u) in the string."
   ]
  },
  {
   "cell_type": "code",
   "execution_count": 8,
   "id": "83736f05-3346-4b1b-b4d0-4395b1b41cc8",
   "metadata": {},
   "outputs": [
    {
     "name": "stdin",
     "output_type": "stream",
     "text": [
      "Enter a sentence:  Hello there, how are you?\n"
     ]
    },
    {
     "name": "stdout",
     "output_type": "stream",
     "text": [
      "The number of vowels is:  9\n"
     ]
    }
   ],
   "source": [
    "string = input(\"Enter a sentence: \")\n",
    "\n",
    "count = 0\n",
    "\n",
    "for i in string:\n",
    "    char = i.lower()\n",
    "    if char in \"aeiou\":\n",
    "        count = count + 1\n",
    "\n",
    "print(\"The number of vowels is: \", count)"
   ]
  },
  {
   "cell_type": "raw",
   "id": "c92d314d-b5e8-408a-9b33-11cf45381d1e",
   "metadata": {},
   "source": [
    "3. Given a string, reverse the order of characters using string slicing and print the reversed string."
   ]
  },
  {
   "cell_type": "code",
   "execution_count": 11,
   "id": "3d4163d9-6089-46b0-9e3d-b917a7fe520d",
   "metadata": {},
   "outputs": [
    {
     "name": "stdin",
     "output_type": "stream",
     "text": [
      "Enter a string:  pwskills\n"
     ]
    },
    {
     "name": "stdout",
     "output_type": "stream",
     "text": [
      "The reversed string is:  sllikswp\n"
     ]
    }
   ],
   "source": [
    "string = input(\"Enter a string: \")\n",
    "reverse = string[::-1]\n",
    "print(\"The reversed string is: \", reverse)"
   ]
  },
  {
   "cell_type": "raw",
   "id": "9568b712-6643-4ee9-bcc7-cd96f7c0484a",
   "metadata": {},
   "source": [
    "4. Write a program that takes a string as input and checks if it is a palindrome (reads the same forwards and backwards)."
   ]
  },
  {
   "cell_type": "code",
   "execution_count": 16,
   "id": "0823d7e3-5ab3-4fab-81ab-d1382a92cebf",
   "metadata": {},
   "outputs": [
    {
     "name": "stdin",
     "output_type": "stream",
     "text": [
      "Enter a string:  malayalam\n"
     ]
    },
    {
     "name": "stdout",
     "output_type": "stream",
     "text": [
      "The string  malayalam  is a palindrome.\n"
     ]
    }
   ],
   "source": [
    "string = input(\"Enter a string: \")\n",
    "reverse = string[::-1]\n",
    "\n",
    "if string.lower() == reverse.lower():\n",
    "    print(\"The string \", string, \" is a palindrome.\")\n",
    "else:\n",
    "    print(\"The string \", string, \" is not a palindrome.\")"
   ]
  },
  {
   "cell_type": "raw",
   "id": "5c9f709c-a016-43b2-a3fb-4385a7451201",
   "metadata": {},
   "source": [
    "5. Create a program that takes a string as input and removes all the spaces from it. Print the modified string without spaces"
   ]
  },
  {
   "cell_type": "code",
   "execution_count": 19,
   "id": "423e1676-29b3-420d-a186-791ebe3a7bce",
   "metadata": {},
   "outputs": [
    {
     "name": "stdin",
     "output_type": "stream",
     "text": [
      "Enter a string:    he  llo\n"
     ]
    },
    {
     "name": "stdout",
     "output_type": "stream",
     "text": [
      "hello\n"
     ]
    }
   ],
   "source": [
    "string = input(\"Enter a string: \")\n",
    "\n",
    "modified_str = \"\"\n",
    "for char in string:\n",
    "    if char != \" \":\n",
    "        modified_str += char\n",
    "\n",
    "print(\"The modified string without spaces is: \", modified_str)"
   ]
  },
  {
   "cell_type": "code",
   "execution_count": null,
   "id": "8b8db1fe-1e9f-4a9d-98a8-d59edbe9fd4d",
   "metadata": {},
   "outputs": [],
   "source": []
  }
 ],
 "metadata": {
  "kernelspec": {
   "display_name": "Python 3 (ipykernel)",
   "language": "python",
   "name": "python3"
  },
  "language_info": {
   "codemirror_mode": {
    "name": "ipython",
    "version": 3
   },
   "file_extension": ".py",
   "mimetype": "text/x-python",
   "name": "python",
   "nbconvert_exporter": "python",
   "pygments_lexer": "ipython3",
   "version": "3.10.8"
  }
 },
 "nbformat": 4,
 "nbformat_minor": 5
}
